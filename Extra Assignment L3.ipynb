{
 "cells": [
  {
   "cell_type": "markdown",
   "id": "45a9a2bf-b5b4-47f1-a817-eb70ecd123b4",
   "metadata": {},
   "source": [
    "#print 'CORRECT' if i == 10\n",
    "\n",
    "value: 10\r\n",
    "Corret"
   ]
  },
  {
   "cell_type": "code",
   "execution_count": 9,
   "id": "3278c4d0-557e-4df9-8b2a-6c327594c92f",
   "metadata": {},
   "outputs": [
    {
     "name": "stdin",
     "output_type": "stream",
     "text": [
      "value: 10\n"
     ]
    },
    {
     "name": "stdout",
     "output_type": "stream",
     "text": [
      "Correct\n"
     ]
    }
   ],
   "source": [
    "i = int(input(\"value:\"))\n",
    "if(i==10):\n",
    "    print(\"Correct\")"
   ]
  },
  {
   "cell_type": "markdown",
   "id": "2801b8ff-c53c-4db2-ba37-b1ed8486293e",
   "metadata": {},
   "source": [
    "#Check the password, using if and else\n",
    "\n",
    "Enter the password: HOPE@123\n",
    "Your password is correct"
   ]
  },
  {
   "cell_type": "code",
   "execution_count": 47,
   "id": "29b4834b-b958-4f3f-872b-8598975e2bc5",
   "metadata": {},
   "outputs": [
    {
     "name": "stdin",
     "output_type": "stream",
     "text": [
      "Enter the password: HOPE@123\n"
     ]
    },
    {
     "name": "stdout",
     "output_type": "stream",
     "text": [
      "Your password is correct\n"
     ]
    }
   ],
   "source": [
    "password = \"HOPE@123\"\n",
    "i=input(\"Enter the password:\")\n",
    "if(password==i):\n",
    "    print(\"Your password is correct\")\n",
    "else:\n",
    "    print(\"Your password is incorrect\")\n",
    "    "
   ]
  },
  {
   "cell_type": "markdown",
   "id": "1fecbc51-46f7-456d-8eac-5954225edd15",
   "metadata": {},
   "source": [
    "#Catagory the people by their age like children, adult, citizen, senior citizen...\n",
    "\n",
    "age: 20\n",
    "Adult"
   ]
  },
  {
   "cell_type": "code",
   "execution_count": 61,
   "id": "1b0a7f68-103d-425b-b99a-d0f6346e4dd1",
   "metadata": {},
   "outputs": [
    {
     "name": "stdin",
     "output_type": "stream",
     "text": [
      "age: 20\n"
     ]
    },
    {
     "name": "stdout",
     "output_type": "stream",
     "text": [
      "Adult\n"
     ]
    }
   ],
   "source": [
    "i=int(input(\"age:\"))\n",
    "if(i==20):\n",
    "    print(\"Adult\")\n",
    "elif(i<18):\n",
    "    print(\"Children\")\n",
    "elif(i<=60):\n",
    "    print(\"Citizen\")\n",
    "else:\n",
    "    print(\"Senior Citizen\")\n",
    "    \n",
    "\n"
   ]
  },
  {
   "cell_type": "markdown",
   "id": "17319cdf-1dac-4686-9246-b8c7fe776499",
   "metadata": {},
   "source": [
    "#Find whether given number is positive or negative\n",
    "Expected O/p:\n",
    "\n",
    "Enter any number:1\r\n",
    "No is positive\n"
   ]
  },
  {
   "cell_type": "code",
   "execution_count": 3,
   "id": "34825f05-fb4d-43bd-b2ba-d6da225af593",
   "metadata": {},
   "outputs": [
    {
     "name": "stdin",
     "output_type": "stream",
     "text": [
      "Enter any number: 1\n"
     ]
    },
    {
     "name": "stdout",
     "output_type": "stream",
     "text": [
      "No is positive\n"
     ]
    }
   ],
   "source": [
    "Num=int(input(\"Enter any number:\"))\n",
    "if(Num>0):\n",
    "    print(\"No is positive\")\n",
    "else:\n",
    "    print(\"No is negative\")"
   ]
  },
  {
   "cell_type": "markdown",
   "id": "be9eecce-8132-4e91-a16a-07c6cce03000",
   "metadata": {},
   "source": [
    "#Check whether the given number is divisible by 5\n",
    "Enter a number to check:22\n",
    "No is not divisible by 5"
   ]
  },
  {
   "cell_type": "code",
   "execution_count": 7,
   "id": "7d5d0bf3-610d-4402-8a2d-ac389a7eeedc",
   "metadata": {},
   "outputs": [
    {
     "name": "stdin",
     "output_type": "stream",
     "text": [
      "Enter a number to check: 27\n"
     ]
    },
    {
     "name": "stdout",
     "output_type": "stream",
     "text": [
      "No is not divisible by 5\n"
     ]
    }
   ],
   "source": [
    "Num=int(input(\"Enter a number to check:\"))\n",
    "if(Num%5):\n",
    "    print(\"No is not divisible by 5\")\n",
    "else:\n",
    "    print(\"No is divisible by 5\")"
   ]
  },
  {
   "cell_type": "code",
   "execution_count": null,
   "id": "b92ad095-824b-47af-a51f-92c6a1cbdd41",
   "metadata": {},
   "outputs": [],
   "source": []
  }
 ],
 "metadata": {
  "kernelspec": {
   "display_name": "Python 3 (ipykernel)",
   "language": "python",
   "name": "python3"
  },
  "language_info": {
   "codemirror_mode": {
    "name": "ipython",
    "version": 3
   },
   "file_extension": ".py",
   "mimetype": "text/x-python",
   "name": "python",
   "nbconvert_exporter": "python",
   "pygments_lexer": "ipython3",
   "version": "3.12.4"
  }
 },
 "nbformat": 4,
 "nbformat_minor": 5
}
