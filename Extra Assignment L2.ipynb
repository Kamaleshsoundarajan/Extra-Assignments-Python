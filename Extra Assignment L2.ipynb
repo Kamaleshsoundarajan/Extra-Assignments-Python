{
 "cells": [
  {
   "cell_type": "code",
   "execution_count": 1,
   "id": "141290e7-3c10-4124-b653-ad6d530d8f04",
   "metadata": {},
   "outputs": [
    {
     "name": "stdout",
     "output_type": "stream",
     "text": [
      "0\n",
      "1\n",
      "2\n",
      "3\n",
      "4\n",
      "5\n",
      "6\n",
      "7\n",
      "8\n",
      "9\n",
      "10\n",
      "11\n",
      "12\n",
      "13\n",
      "14\n",
      "15\n",
      "16\n",
      "17\n",
      "18\n",
      "19\n"
     ]
    }
   ],
   "source": [
    "# print 0 to 20 by using range\n",
    "\n",
    "for num in range(0,20):\n",
    "    print(num)"
   ]
  },
  {
   "cell_type": "markdown",
   "id": "e601246d-9b71-4ace-bc60-79f38362187a",
   "metadata": {},
   "source": [
    "# print range 10 to 20\n",
    "Expected o/p:\n",
    "10 11 12 13 14 15 16 17 18 19\n",
    "\n"
   ]
  },
  {
   "cell_type": "code",
   "execution_count": 4,
   "id": "59b146a9-f611-408a-9d54-c5cc95ebedb1",
   "metadata": {},
   "outputs": [
    {
     "name": "stdout",
     "output_type": "stream",
     "text": [
      "10 11 12 13 14 15 16 17 18 19 "
     ]
    }
   ],
   "source": [
    "for temp in range(10,20):\n",
    "    print(temp, end=' ')"
   ]
  },
  {
   "cell_type": "markdown",
   "id": "245d9b28-db8d-413d-b7a7-dd4aa3722185",
   "metadata": {},
   "source": [
    "Print number of items in the list by using 'len'\n",
    "\n",
    "Expected O/p:\n",
    "\n",
    "[10, 20, 14, 55, 43, 87, 76]\n",
    "Number of item in the List2:\n",
    "7"
   ]
  },
  {
   "cell_type": "code",
   "execution_count": 10,
   "id": "9546dc14-49eb-484e-a342-1c3109d7813f",
   "metadata": {},
   "outputs": [
    {
     "name": "stdout",
     "output_type": "stream",
     "text": [
      "Number of item in the List2:\n",
      "7\n"
     ]
    }
   ],
   "source": [
    "List2=[10,20,14,55,43,87,76]\n",
    "x=len(List2)\n",
    "print(\"Number of item in the List2:\")\n",
    "print(x)\n"
   ]
  },
  {
   "cell_type": "code",
   "execution_count": null,
   "id": "48e9d7c8-3395-4524-9438-6710254784b1",
   "metadata": {},
   "outputs": [],
   "source": [
    "Expected O/p:\n",
    "\n",
    "Artificial Intelligence\n",
    "A\n",
    "r\n",
    "t\n",
    "i\n",
    "f\n",
    "i\n",
    "c\n",
    "i\n",
    "a\n",
    "l\n",
    "\n",
    "I\n",
    "n\n",
    "t\n",
    "e\n",
    "l\n",
    "l\n",
    "i\n",
    "g\n",
    "e\n",
    "n\n",
    "c\n",
    "e"
   ]
  },
  {
   "cell_type": "code",
   "execution_count": 16,
   "id": "096b3c08-14f8-4e3f-8a17-2015844335d6",
   "metadata": {},
   "outputs": [
    {
     "name": "stdout",
     "output_type": "stream",
     "text": [
      "A\n",
      "r\n",
      "t\n",
      "i\n",
      "f\n",
      "i\n",
      "c\n",
      "i\n",
      "a\n",
      "l\n",
      " \n",
      "I\n",
      "n\n",
      "t\n",
      "e\n",
      "l\n",
      "l\n",
      "i\n",
      "g\n",
      "e\n",
      "n\n",
      "c\n",
      "e\n"
     ]
    }
   ],
   "source": [
    "mainvariable= \"Artificial Intelligence\"\n",
    "for temp in mainvariable:\n",
    "    print(temp)\n"
   ]
  },
  {
   "cell_type": "code",
   "execution_count": null,
   "id": "96f0af89-e4e6-400f-9f09-c6fcaa6c0b7a",
   "metadata": {},
   "outputs": [],
   "source": [
    "Expected O/p:\n",
    "\n",
    "-Your Name-\n",
    "-Your Age-\n",
    "-Your Profession-"
   ]
  },
  {
   "cell_type": "code",
   "execution_count": 15,
   "id": "c8970277-96a7-4b04-9a90-4dc3154bdd04",
   "metadata": {},
   "outputs": [
    {
     "name": "stdout",
     "output_type": "stream",
     "text": [
      "-Your Name-\n",
      "-Your Age-\n",
      "-Your Profession-\n"
     ]
    }
   ],
   "source": [
    "list=[\"-Your Name-\", \"-Your Age-\", \"-Your Profession-\" ]\n",
    "for temp in list:\n",
    "    print(temp)"
   ]
  },
  {
   "cell_type": "markdown",
   "id": "06bd8a76-d0b7-4679-b464-d13d00ab89ec",
   "metadata": {},
   "source": [
    "#Print this mixed datatype using Tuples\n",
    "Expected O/p:\n",
    "\n",
    "(1, 'Welcome', 2, 'Hope')"
   ]
  },
  {
   "cell_type": "code",
   "execution_count": 26,
   "id": "9112a5b8-0eb6-4cf8-81f2-ab87825161ba",
   "metadata": {},
   "outputs": [
    {
     "name": "stdout",
     "output_type": "stream",
     "text": [
      "(1, 'Welcome', 2, 'Hope')\n"
     ]
    }
   ],
   "source": [
    "tuples=(1, \"Welcome\", 2, \"Hope\")\n",
    "print(tuples)\n"
   ]
  },
  {
   "cell_type": "markdown",
   "id": "5b583a18-a5d0-4fa8-a1fa-a2176596d8ed",
   "metadata": {},
   "source": [
    "Tuple1=(0, 1, 2, 3)\n",
    "\n",
    "Expected O/p:\n",
    "\n",
    "((0, 1, 2, 3), ('python', 'HOPE')), 'HOPE'))"
   ]
  },
  {
   "cell_type": "code",
   "execution_count": 28,
   "id": "76ce5d00-59e7-4cbe-98e7-fe3844e690dc",
   "metadata": {},
   "outputs": [
    {
     "name": "stdout",
     "output_type": "stream",
     "text": [
      "((0, 1, 2, 3), ('python', 'HOPE'))\n"
     ]
    }
   ],
   "source": [
    "Tuple1=(0, 1, 2, 3)\n",
    "Tuple2=('python', 'HOPE')\n",
    "Tuple3=(Tuple1, Tuple2)\n",
    "print(Tuple3)"
   ]
  },
  {
   "cell_type": "markdown",
   "id": "2769a479-faf9-4987-a0fc-6afa5eda56f3",
   "metadata": {},
   "source": [
    "#print Odd Numbers in the list\n",
    "\n",
    "(20,10,16,19,25,1,276,188)\n",
    "19 is odd\n",
    "25 is odd\n",
    "1 is odd"
   ]
  },
  {
   "cell_type": "code",
   "execution_count": 36,
   "id": "cfe0094e-490a-4259-b492-bcbe0499a5da",
   "metadata": {},
   "outputs": [
    {
     "name": "stdout",
     "output_type": "stream",
     "text": [
      "19 is odd\n",
      "25 is odd\n",
      "1 is odd\n"
     ]
    }
   ],
   "source": [
    "list=[20,10,16,19,25,1,276,188]\n",
    "\n",
    "for num in list:\n",
    "    if((num%2)==1):\n",
    "        print(num, \"is odd\")"
   ]
  },
  {
   "cell_type": "markdown",
   "id": "64681dc0-ed24-4f5b-8f7a-6625ff381077",
   "metadata": {},
   "source": [
    "#print Even numbers in the list\n",
    "\n",
    "(20,10,16,19,25,1,276,188)\r\n",
    "20 is odd\r\n",
    "10 is odd\r\n",
    "16 is odd\r\n",
    "276 is odd\r\n",
    "188 is odd"
   ]
  },
  {
   "cell_type": "code",
   "execution_count": 40,
   "id": "dff09319-3f9e-48d2-9d24-fdbbb2ec435e",
   "metadata": {},
   "outputs": [
    {
     "name": "stdout",
     "output_type": "stream",
     "text": [
      "20 is even\n",
      "10 is even\n",
      "16 is even\n",
      "276 is even\n",
      "188 is even\n"
     ]
    }
   ],
   "source": [
    "list=[20,10,16,19,25,1,276,188]\n",
    "\n",
    "for num in list:\n",
    "    if((num%2)==0):\n",
    "        print(num, \"is even\")\n",
    "\n"
   ]
  },
  {
   "cell_type": "code",
   "execution_count": null,
   "id": "32f56c3a-2b25-40eb-9aaf-6f969d4f238f",
   "metadata": {},
   "outputs": [],
   "source": []
  }
 ],
 "metadata": {
  "kernelspec": {
   "display_name": "Python 3 (ipykernel)",
   "language": "python",
   "name": "python3"
  },
  "language_info": {
   "codemirror_mode": {
    "name": "ipython",
    "version": 3
   },
   "file_extension": ".py",
   "mimetype": "text/x-python",
   "name": "python",
   "nbconvert_exporter": "python",
   "pygments_lexer": "ipython3",
   "version": "3.12.4"
  }
 },
 "nbformat": 4,
 "nbformat_minor": 5
}
