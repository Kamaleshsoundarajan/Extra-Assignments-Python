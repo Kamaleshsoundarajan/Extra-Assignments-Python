{
 "cells": [
  {
   "cell_type": "markdown",
   "id": "acb8003e-c0a4-4b73-a84a-95a82eab4da7",
   "metadata": {},
   "source": [
    "#Print statement \n",
    "HOPE AI\n"
   ]
  },
  {
   "cell_type": "code",
   "execution_count": 1,
   "id": "1352ab16-f287-4c36-b6f0-0690dc18c84e",
   "metadata": {},
   "outputs": [
    {
     "name": "stdout",
     "output_type": "stream",
     "text": [
      "HOPE AI\n"
     ]
    }
   ],
   "source": [
    "print(\"HOPE AI\")"
   ]
  },
  {
   "cell_type": "code",
   "execution_count": null,
   "id": "70e7ae36-9e06-4ee1-a079-f52b9e84e8aa",
   "metadata": {},
   "outputs": [],
   "source": [
    "#Buy Input\n",
    "Enter your institute name? : HOPE AI"
   ]
  },
  {
   "cell_type": "code",
   "execution_count": 11,
   "id": "d4f47506-9d70-49c4-8fcd-6a3b28db6f34",
   "metadata": {},
   "outputs": [
    {
     "name": "stdin",
     "output_type": "stream",
     "text": [
      "Enter your institute name? : HOPE AI\n"
     ]
    }
   ],
   "source": [
    "Name=input(\"Enter your institute name? :\")"
   ]
  },
  {
   "cell_type": "markdown",
   "id": "719fec31-1345-46d1-944c-ba496879627d",
   "metadata": {},
   "source": [
    "#Buy inputs\n",
    "\n",
    "Enter your name: Raj\n",
    "Enter your age: 15\n",
    "Enter your school name: Guru school\n",
    "Enter your drgree: B.E CSE"
   ]
  },
  {
   "cell_type": "code",
   "execution_count": 13,
   "id": "585933f9-49d7-4a83-bcfd-e445ac3c3dbe",
   "metadata": {},
   "outputs": [
    {
     "name": "stdin",
     "output_type": "stream",
     "text": [
      "Enter your name: Raj\n",
      "Enter your age: 15\n",
      "Enter your school name: Guru school\n",
      "Enter your degree: B.E CSE\n"
     ]
    }
   ],
   "source": [
    "name=input(\"Enter your name:\")\n",
    "age=int(input(\"Enter your age:\"))\n",
    "school=input(\"Enter your school name:\")\n",
    "Degree=input(\"Enter your degree:\")\n",
    "\n"
   ]
  },
  {
   "cell_type": "markdown",
   "id": "23a71bf4-a734-4382-9f31-f609df08ac8f",
   "metadata": {},
   "source": [
    "#Addition\n",
    "\n",
    "a= 43\n",
    "b= 34\n",
    "add = 77"
   ]
  },
  {
   "cell_type": "code",
   "execution_count": 39,
   "id": "dc82ffb7-5e49-4cc2-ba03-b555a9c6a871",
   "metadata": {},
   "outputs": [
    {
     "name": "stdout",
     "output_type": "stream",
     "text": [
      "add= 77\n"
     ]
    }
   ],
   "source": [
    "a=43\n",
    "b=34\n",
    "add=a+b\n",
    "print(\"add=\",add)\n"
   ]
  },
  {
   "cell_type": "markdown",
   "id": "3eea100a-bd6b-4451-82c2-4f8b7e16a8ba",
   "metadata": {},
   "source": [
    "#Subtraction\n",
    "\n",
    "a= 43\r\n",
    "b= 34\r\n",
    "Sub = 9\n"
   ]
  },
  {
   "cell_type": "code",
   "execution_count": 41,
   "id": "e6f6a2f5-f9cf-497d-b601-0d552dae7fe7",
   "metadata": {},
   "outputs": [
    {
     "name": "stdout",
     "output_type": "stream",
     "text": [
      "Sub= 9\n"
     ]
    }
   ],
   "source": [
    "a= 43\n",
    "b= 34\n",
    "Sub=a-b\n",
    "print(\"Sub=\",Sub)\n"
   ]
  },
  {
   "cell_type": "markdown",
   "id": "b41e31b3-a9e0-43d8-97a2-957109ba03cd",
   "metadata": {},
   "source": [
    "#Multiplication\n",
    "\n",
    "a= 63\n",
    "b= 97\n",
    "Mul = 6111"
   ]
  },
  {
   "cell_type": "code",
   "execution_count": 43,
   "id": "2c4e0bbd-877f-4fb1-a58d-fffa29fabc4e",
   "metadata": {},
   "outputs": [
    {
     "name": "stdout",
     "output_type": "stream",
     "text": [
      "Mul= 6111\n"
     ]
    }
   ],
   "source": [
    "a= 63\n",
    "b= 97\n",
    "Mul=a*b\n",
    "print(\"Mul=\",Mul)\n"
   ]
  },
  {
   "cell_type": "markdown",
   "id": "dc7f2dc9-0ec6-4d31-a1a8-1f8660f0d667",
   "metadata": {},
   "source": [
    "#Division\n",
    "\n",
    "a= 76\r\n",
    "b= 31\r\n",
    "Float Div = 2.4516129032258065"
   ]
  },
  {
   "cell_type": "code",
   "execution_count": 47,
   "id": "3626c641-e724-4bc6-b71c-295d33041021",
   "metadata": {},
   "outputs": [
    {
     "name": "stdout",
     "output_type": "stream",
     "text": [
      "Float Div= 2.4516129032258065\n"
     ]
    }
   ],
   "source": [
    "a= 76\n",
    "b= 31\n",
    "Div=(a/b)\n",
    "print(\"Float Div=\",Div)"
   ]
  },
  {
   "cell_type": "markdown",
   "id": "4fb0c254-e2a6-4a43-ba55-c504b6e41c3d",
   "metadata": {},
   "source": [
    "#Floor division\n",
    "\n"
   ]
  },
  {
   "cell_type": "code",
   "execution_count": 49,
   "id": "fd261e09-8485-4773-8216-0824cb30f241",
   "metadata": {},
   "outputs": [
    {
     "name": "stdout",
     "output_type": "stream",
     "text": [
      "Floor Div= 2\n"
     ]
    }
   ],
   "source": [
    "a= 76\n",
    "b= 31\n",
    "Div=a//b\n",
    "print(\"Floor Div=\",Div)\n"
   ]
  },
  {
   "cell_type": "markdown",
   "id": "9e7cfbc2-4a26-4213-b54b-827e0fe27681",
   "metadata": {},
   "source": [
    "#Modulo\n",
    "\n",
    "a= 76\r\n",
    "b= 31\r\n",
    "Modulo = 14"
   ]
  },
  {
   "cell_type": "code",
   "execution_count": 51,
   "id": "4f633a25-a0d0-4b61-8474-54517a2c66a6",
   "metadata": {},
   "outputs": [
    {
     "name": "stdout",
     "output_type": "stream",
     "text": [
      "Modulo= 14\n"
     ]
    }
   ],
   "source": [
    "a= 76\n",
    "b= 31\n",
    "value=a%b\n",
    "print(\"Modulo=\",value)"
   ]
  },
  {
   "cell_type": "markdown",
   "id": "12cf2490-1f7d-4435-b1ef-234a7c2c366f",
   "metadata": {},
   "source": [
    "#Power\n",
    "\n",
    "a= 4\n",
    "b= 4\n",
    "Power = 256"
   ]
  },
  {
   "cell_type": "code",
   "execution_count": 53,
   "id": "ff50508f-cc42-44b4-8c99-36ba2d62732a",
   "metadata": {},
   "outputs": [
    {
     "name": "stdout",
     "output_type": "stream",
     "text": [
      "Power= 256\n"
     ]
    }
   ],
   "source": [
    "a= 4\n",
    "b= 4\n",
    "Mul=a*b\n",
    "print(\"Power=\",Mul**2)"
   ]
  },
  {
   "cell_type": "code",
   "execution_count": null,
   "id": "0161d35f-da7a-4cce-921a-86a1644b4ff9",
   "metadata": {},
   "outputs": [],
   "source": []
  }
 ],
 "metadata": {
  "kernelspec": {
   "display_name": "Python 3 (ipykernel)",
   "language": "python",
   "name": "python3"
  },
  "language_info": {
   "codemirror_mode": {
    "name": "ipython",
    "version": 3
   },
   "file_extension": ".py",
   "mimetype": "text/x-python",
   "name": "python",
   "nbconvert_exporter": "python",
   "pygments_lexer": "ipython3",
   "version": "3.12.4"
  }
 },
 "nbformat": 4,
 "nbformat_minor": 5
}
